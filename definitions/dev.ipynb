{
 "cells": [
  {
   "cell_type": "code",
   "execution_count": 49,
   "id": "b17999e6",
   "metadata": {},
   "outputs": [],
   "source": [
    "resdir = '/Users/Serena/Desktop/PA-brain-project/results'\n",
    "\n",
    "results_format = 'QDECR' # 'verywise'"
   ]
  },
  {
   "cell_type": "code",
   "execution_count": 54,
   "id": "95440d51",
   "metadata": {},
   "outputs": [
    {
     "data": {
      "text/plain": [
       "['light_pa', 'self_report_pa', 'tot_steps', 'mvpa']"
      ]
     },
     "execution_count": 54,
     "metadata": {},
     "output_type": "execute_result"
    }
   ],
   "source": [
    "top_level = [f for f in os.listdir(resdir) if not f.startswith('.')]\n",
    "top_level"
   ]
  },
  {
   "cell_type": "code",
   "execution_count": 55,
   "id": "6fb0bf02",
   "metadata": {},
   "outputs": [
    {
     "data": {
      "text/plain": [
       "['rh.light_pa_adjint.thickness',\n",
       " 'lh.light_pa.area',\n",
       " '.DS_Store',\n",
       " 'rh.light_pa.thickness',\n",
       " 'lh.light_pa_adjint.area',\n",
       " 'lh.light_pa.thickness',\n",
       " 'rh.light_pa.area',\n",
       " 'rh.light_pa_adjint.area']"
      ]
     },
     "execution_count": 55,
     "metadata": {},
     "output_type": "execute_result"
    }
   ],
   "source": [
    "os.listdir(f'{resdir}/{p}')"
   ]
  },
  {
   "cell_type": "code",
   "execution_count": 61,
   "id": "dbb5bcac",
   "metadata": {},
   "outputs": [],
   "source": [
    "p = top_level[0]  # Assuming you want to work with the first top-level directory\n",
    "subdir_list = [f for f in os.listdir(os.path.join(resdir, p)) if (\n",
    "                os.path.isdir(os.path.join(resdir, p, f))) & (not f.startswith('.'))]"
   ]
  },
  {
   "cell_type": "code",
   "execution_count": 68,
   "id": "5d3baab4",
   "metadata": {},
   "outputs": [],
   "source": [
    "subdir = subdir_list[0]\n",
    "subdir\n",
    "\n",
    "res = pd.DataFrame([d.split('.') for d in subdir_list], \n",
    "                   columns=['hemi','model','meas'])"
   ]
  },
  {
   "cell_type": "code",
   "execution_count": 69,
   "id": "c952f173",
   "metadata": {},
   "outputs": [
    {
     "data": {
      "text/html": [
       "<div>\n",
       "<style scoped>\n",
       "    .dataframe tbody tr th:only-of-type {\n",
       "        vertical-align: middle;\n",
       "    }\n",
       "\n",
       "    .dataframe tbody tr th {\n",
       "        vertical-align: top;\n",
       "    }\n",
       "\n",
       "    .dataframe thead th {\n",
       "        text-align: right;\n",
       "    }\n",
       "</style>\n",
       "<table border=\"1\" class=\"dataframe\">\n",
       "  <thead>\n",
       "    <tr style=\"text-align: right;\">\n",
       "      <th></th>\n",
       "      <th>hemi</th>\n",
       "      <th>model</th>\n",
       "      <th>meas</th>\n",
       "    </tr>\n",
       "  </thead>\n",
       "  <tbody>\n",
       "    <tr>\n",
       "      <th>0</th>\n",
       "      <td>rh</td>\n",
       "      <td>light_pa_adjint</td>\n",
       "      <td>thickness</td>\n",
       "    </tr>\n",
       "    <tr>\n",
       "      <th>1</th>\n",
       "      <td>lh</td>\n",
       "      <td>light_pa</td>\n",
       "      <td>area</td>\n",
       "    </tr>\n",
       "    <tr>\n",
       "      <th>2</th>\n",
       "      <td>rh</td>\n",
       "      <td>light_pa</td>\n",
       "      <td>thickness</td>\n",
       "    </tr>\n",
       "    <tr>\n",
       "      <th>3</th>\n",
       "      <td>lh</td>\n",
       "      <td>light_pa_adjint</td>\n",
       "      <td>area</td>\n",
       "    </tr>\n",
       "    <tr>\n",
       "      <th>4</th>\n",
       "      <td>lh</td>\n",
       "      <td>light_pa</td>\n",
       "      <td>thickness</td>\n",
       "    </tr>\n",
       "    <tr>\n",
       "      <th>5</th>\n",
       "      <td>rh</td>\n",
       "      <td>light_pa</td>\n",
       "      <td>area</td>\n",
       "    </tr>\n",
       "    <tr>\n",
       "      <th>6</th>\n",
       "      <td>rh</td>\n",
       "      <td>light_pa_adjint</td>\n",
       "      <td>area</td>\n",
       "    </tr>\n",
       "  </tbody>\n",
       "</table>\n",
       "</div>"
      ],
      "text/plain": [
       "  hemi            model       meas\n",
       "0   rh  light_pa_adjint  thickness\n",
       "1   lh         light_pa       area\n",
       "2   rh         light_pa  thickness\n",
       "3   lh  light_pa_adjint       area\n",
       "4   lh         light_pa  thickness\n",
       "5   rh         light_pa       area\n",
       "6   rh  light_pa_adjint       area"
      ]
     },
     "execution_count": 69,
     "metadata": {},
     "output_type": "execute_result"
    }
   ],
   "source": [
    "res"
   ]
  },
  {
   "cell_type": "code",
   "execution_count": null,
   "id": "af83cde4",
   "metadata": {},
   "outputs": [],
   "source": [
    "\n",
    "\n",
    "\n",
    "if len(subdir_list) == 0: # already found the deepest level\n",
    "res = pd.DataFrame([d.split('.')[:2] for d in os.listdir(f'{resdir}/{p}') if d.endswith('.mgh')],\n",
    "                            columns=['hemi', 'meas']).drop_duplicates()\n",
    "res['model'] = p\n",
    "all_results[p] = res\n",
    "\n",
    "else:\n",
    "subdir_res = pd.DataFrame()\n",
    "for subdir in subdir_list:\n",
    "    res = pd.DataFrame([d.split('.') for d in os.listdir(f'{resdir}/{p}/{subdir}') if d.endswith('.mgh')],\n",
    "                        columns=['hemi', 'meas']).drop_duplicates()\n",
    "    res['model'] = subdir\n",
    "    subdir_res = pd.concat([subdir_res, res])\n",
    "\n",
    "all_results[p] = subdir_res"
   ]
  },
  {
   "cell_type": "code",
   "execution_count": 41,
   "id": "ccfa8be6",
   "metadata": {},
   "outputs": [],
   "source": [
    "import re \n",
    "def download_github_folder(github_url, github_token=None, GITHUB_FOLDER_CACHE={}):\n",
    "    \"\"\"\n",
    "    Downloads a folder from a public GitHub repo to a temp directory.\n",
    "    github_url: e.g. https://github.com/user/repo/tree/main/path/to/folder\n",
    "    Returns the local path to the downloaded folder.\n",
    "    \"\"\"\n",
    "    import tempfile\n",
    "    import requests\n",
    "\n",
    "    # Check cache first\n",
    "    if github_url in GITHUB_FOLDER_CACHE:\n",
    "        return GITHUB_FOLDER_CACHE[github_url]\n",
    "    \n",
    "    m = re.match(r\"https://github.com/([^/]+)/([^/]+)/tree/([^/]+)/(.*)\", github_url)\n",
    "    if not m:\n",
    "        raise ValueError(\"URL must be of the form https://github.com/user/repo/tree/branch/path/to/folder\")\n",
    "    user, repo, branch, folder_path = m.groups()\n",
    "\n",
    "    api_url = f\"https://api.github.com/repos/{user}/{repo}/contents/{folder_path}?ref={branch}\"\n",
    "    tmp_dir = tempfile.mkdtemp()\n",
    "    folder_local = os.path.join(tmp_dir, os.path.basename(folder_path))\n",
    "    os.makedirs(folder_local, exist_ok=True)\n",
    "\n",
    "    headers = {}\n",
    "    # Try to get token from environment if not provided\n",
    "    if github_token is None:\n",
    "        github_token = os.environ.get(\"GITHUB_TOKEN\")\n",
    "    if github_token:\n",
    "        headers[\"Authorization\"] = f\"token {github_token}\"\n",
    "\n",
    "    def download_contents(api_url, local_dir, print_progress=True):\n",
    "        resp = requests.get(api_url, headers=headers)\n",
    "        resp.raise_for_status()\n",
    "        element_count = len(resp.json())\n",
    "        # with ui.Progress(min=0, max=element_count) as p:\n",
    "        for e, file_info in enumerate(resp.json()):\n",
    "\n",
    "            # if print_progress: \n",
    "            #     p.set(value=e + 1, message=f\"Downloading [{e + 1}/{element_count}]: {file_info['name']}...\")\n",
    "            # else: \n",
    "            #     p.set(value=e + 1, message=f\"[{e + 1}/{element_count}]: {file_info['name']}...\")\n",
    "\n",
    "            if file_info[\"type\"] == \"dir\":\n",
    "                subfolder_local = os.path.join(local_dir, file_info[\"name\"])\n",
    "                os.makedirs(subfolder_local, exist_ok=True)\n",
    "                download_contents(file_info[\"url\"], subfolder_local, print_progress=False)\n",
    "\n",
    "            elif file_info[\"type\"] == \"file\":\n",
    "                file_resp = requests.get(file_info[\"download_url\"])\n",
    "                file_resp.raise_for_status()\n",
    "                with open(os.path.join(local_dir, file_info[\"name\"]), \"wb\") as f:\n",
    "                    f.write(file_resp.content)\n",
    "                \n",
    "\n",
    "    download_contents(api_url, folder_local)\n",
    "\n",
    "    # Store in cache\n",
    "    GITHUB_FOLDER_CACHE[github_url] = folder_local\n",
    "\n",
    "    return folder_local\n",
    "\n",
    "\n",
    "def detect_models(resdir, results_format):\n",
    "\n",
    "    resdir = resolve_resdir(resdir)\n",
    "\n",
    "    # Make sure path is correctly specified\n",
    "    resdir = f'{resdir}/' if resdir[-1] != '/' else resdir\n",
    "\n",
    "    # List all results\n",
    "    all_results = dict()\n",
    "\n",
    "    top_level = [f for f in os.listdir(resdir) if not f.startswith('.')]\n",
    "\n",
    "    print('FOLDERS', top_level)\n",
    "\n",
    "    if results_format == 'verywise':\n",
    "        for p in sorted(top_level):\n",
    "            subdir_list = [f for f in os.listdir(f'{resdir}/{p}') if (os.path.isdir(f)) & (not f.startswith('.'))]\n",
    "            if len(subdir_list) == 0: # already found the deepest level\n",
    "                res = pd.DataFrame([d.split('.')[:2] for d in os.listdir(f'{resdir}/{p}') if d.endswith('.mgh')],\n",
    "                                            columns=['hemi', 'meas']).drop_duplicates()\n",
    "                res['model'] = p\n",
    "                all_results[p] = res\n",
    "\n",
    "            else:\n",
    "                subdir_res = pd.DataFrame()\n",
    "                for subdir in subdir_list:\n",
    "                    res = pd.DataFrame([d.split('.')[:2] for d in os.listdir(f'{resdir}/{p}/{subdir}') if d.endswith('.mgh')],\n",
    "                                        columns=['hemi', 'meas']).drop_duplicates()\n",
    "                    res['model'] = subdir\n",
    "                    subdir_res = pd.concat([subdir_res, res])\n",
    "                \n",
    "                all_results[p] = subdir_res\n",
    "    \n",
    "    elif results_format == 'QDECR': #TODO: adapt this to all QDECR formats\n",
    "        for p in sorted(top_level):\n",
    "            print(p)\n",
    "            all_results[p] = pd.DataFrame([p.split('.')], columns=['hemi', 'model', 'meas'])\n",
    "\n",
    "    return all_results\n",
    "\n"
   ]
  },
  {
   "cell_type": "code",
   "execution_count": 42,
   "id": "6e6fa890",
   "metadata": {},
   "outputs": [],
   "source": [
    "dir = download_github_folder(resdir)\n"
   ]
  },
  {
   "cell_type": "code",
   "execution_count": 45,
   "id": "fcc79805",
   "metadata": {},
   "outputs": [
    {
     "data": {
      "text/plain": [
       "['rh.area.stack1.cache.th30.abs.sig.ocn.mgh',\n",
       " 'lh.area.stack6.cache.th30.abs.sig.ocn.mgh',\n",
       " 'rh.area.stack5.coef.mgh',\n",
       " 'rh.area.stack4.coef.mgh',\n",
       " 'rh.area.stack6.cache.th30.abs.sig.ocn.mgh',\n",
       " 'lh.area.stack1.cache.th30.abs.sig.ocn.mgh',\n",
       " 'lh.area.stack1.coef.mgh',\n",
       " 'rh.area.stack7.cache.th30.abs.sig.ocn.mgh',\n",
       " 'lh.area.stack7.coef.mgh',\n",
       " 'lh.area.stack6.coef.mgh',\n",
       " 'lh.area.stack7.cache.th30.abs.sig.ocn.mgh',\n",
       " 'rh.area.stack8.coef.mgh',\n",
       " 'rh.area.stack2.coef.mgh',\n",
       " 'rh.area.stack3.coef.mgh',\n",
       " 'lh.area.stack3.coef.mgh',\n",
       " 'lh.area.stack2.coef.mgh',\n",
       " 'rh.area.stack5.cache.th30.abs.sig.ocn.mgh',\n",
       " 'lh.area.stack2.cache.th30.abs.sig.ocn.mgh',\n",
       " 'lh.area.stack8.coef.mgh',\n",
       " 'rh.area.stack2.cache.th30.abs.sig.ocn.mgh',\n",
       " 'rh.area.stack6.coef.mgh',\n",
       " 'rh.area.stack7.coef.mgh',\n",
       " 'lh.area.stack5.cache.th30.abs.sig.ocn.mgh',\n",
       " 'lh.area.stack8.cache.th30.abs.sig.ocn.mgh',\n",
       " 'rh.area.stack3.cache.th30.abs.sig.ocn.mgh',\n",
       " 'lh.area.stack4.cache.th30.abs.sig.ocn.mgh',\n",
       " 'rh.area.stack1.coef.mgh',\n",
       " 'stack_names.txt',\n",
       " 'lh.area.stack4.coef.mgh',\n",
       " 'lh.area.stack5.coef.mgh',\n",
       " 'rh.area.stack4.cache.th30.abs.sig.ocn.mgh',\n",
       " 'lh.area.stack3.cache.th30.abs.sig.ocn.mgh',\n",
       " 'rh.area.stack8.cache.th30.abs.sig.ocn.mgh']"
      ]
     },
     "execution_count": 45,
     "metadata": {},
     "output_type": "execute_result"
    }
   ],
   "source": [
    "os.listdir(f'{dir}/{os.listdir(dir)[0]}')"
   ]
  },
  {
   "cell_type": "code",
   "execution_count": 46,
   "id": "71482221",
   "metadata": {},
   "outputs": [],
   "source": [
    "import pandas as pd\n",
    "stacks = pd.read_table(f'{dir}/{os.listdir(dir)[0]}/stack_names.txt', delimiter=\"\\t\")\n"
   ]
  },
  {
   "cell_type": "code",
   "execution_count": 47,
   "id": "c859e6a1",
   "metadata": {},
   "outputs": [
    {
     "data": {
      "text/html": [
       "<div>\n",
       "<style scoped>\n",
       "    .dataframe tbody tr th:only-of-type {\n",
       "        vertical-align: middle;\n",
       "    }\n",
       "\n",
       "    .dataframe tbody tr th {\n",
       "        vertical-align: top;\n",
       "    }\n",
       "\n",
       "    .dataframe thead th {\n",
       "        text-align: right;\n",
       "    }\n",
       "</style>\n",
       "<table border=\"1\" class=\"dataframe\">\n",
       "  <thead>\n",
       "    <tr style=\"text-align: right;\">\n",
       "      <th></th>\n",
       "      <th>stack_number</th>\n",
       "      <th>stack_name</th>\n",
       "    </tr>\n",
       "  </thead>\n",
       "  <tbody>\n",
       "    <tr>\n",
       "      <th>0</th>\n",
       "      <td>1</td>\n",
       "      <td>(Intercept)</td>\n",
       "    </tr>\n",
       "    <tr>\n",
       "      <th>1</th>\n",
       "      <td>2</td>\n",
       "      <td>att</td>\n",
       "    </tr>\n",
       "    <tr>\n",
       "      <th>2</th>\n",
       "      <td>3</td>\n",
       "      <td>age</td>\n",
       "    </tr>\n",
       "    <tr>\n",
       "      <th>3</th>\n",
       "      <td>4</td>\n",
       "      <td>sexgirl</td>\n",
       "    </tr>\n",
       "    <tr>\n",
       "      <th>4</th>\n",
       "      <td>5</td>\n",
       "      <td>ethnother</td>\n",
       "    </tr>\n",
       "    <tr>\n",
       "      <th>5</th>\n",
       "      <td>6</td>\n",
       "      <td>par_eduMedium</td>\n",
       "    </tr>\n",
       "    <tr>\n",
       "      <th>6</th>\n",
       "      <td>7</td>\n",
       "      <td>par_eduHigh</td>\n",
       "    </tr>\n",
       "    <tr>\n",
       "      <th>7</th>\n",
       "      <td>8</td>\n",
       "      <td>age_m</td>\n",
       "    </tr>\n",
       "  </tbody>\n",
       "</table>\n",
       "</div>"
      ],
      "text/plain": [
       "   stack_number     stack_name\n",
       "0             1    (Intercept)\n",
       "1             2            att\n",
       "2             3            age\n",
       "3             4        sexgirl\n",
       "4             5      ethnother\n",
       "5             6  par_eduMedium\n",
       "6             7    par_eduHigh\n",
       "7             8          age_m"
      ]
     },
     "execution_count": 47,
     "metadata": {},
     "output_type": "execute_result"
    }
   ],
   "source": [
    "stacks\n"
   ]
  },
  {
   "cell_type": "code",
   "execution_count": null,
   "id": "693da089",
   "metadata": {},
   "outputs": [
    {
     "data": {
      "text/plain": [
       "['rh.area.stack1.cache.th30.abs.sig.ocn.mgh',\n",
       " 'lh.area.stack6.cache.th30.abs.sig.ocn.mgh',\n",
       " 'rh.area.stack5.coef.mgh',\n",
       " 'rh.area.stack4.coef.mgh',\n",
       " 'rh.area.stack6.cache.th30.abs.sig.ocn.mgh',\n",
       " 'lh.area.stack1.cache.th30.abs.sig.ocn.mgh',\n",
       " 'lh.area.stack1.coef.mgh',\n",
       " 'rh.area.stack7.cache.th30.abs.sig.ocn.mgh',\n",
       " 'lh.area.stack7.coef.mgh',\n",
       " 'lh.area.stack6.coef.mgh',\n",
       " 'lh.area.stack7.cache.th30.abs.sig.ocn.mgh',\n",
       " 'rh.area.stack8.coef.mgh',\n",
       " 'rh.area.stack2.coef.mgh',\n",
       " 'rh.area.stack3.coef.mgh',\n",
       " 'lh.area.stack3.coef.mgh',\n",
       " 'lh.area.stack2.coef.mgh',\n",
       " 'rh.area.stack5.cache.th30.abs.sig.ocn.mgh',\n",
       " 'lh.area.stack2.cache.th30.abs.sig.ocn.mgh',\n",
       " 'lh.area.stack8.coef.mgh',\n",
       " 'rh.area.stack2.cache.th30.abs.sig.ocn.mgh',\n",
       " 'rh.area.stack6.coef.mgh',\n",
       " 'rh.area.stack7.coef.mgh',\n",
       " 'lh.area.stack5.cache.th30.abs.sig.ocn.mgh',\n",
       " 'lh.area.stack8.cache.th30.abs.sig.ocn.mgh',\n",
       " 'rh.area.stack3.cache.th30.abs.sig.ocn.mgh',\n",
       " 'lh.area.stack4.cache.th30.abs.sig.ocn.mgh',\n",
       " 'rh.area.stack1.coef.mgh',\n",
       " 'stack_names.txt',\n",
       " 'lh.area.stack4.coef.mgh',\n",
       " 'lh.area.stack5.coef.mgh',\n",
       " 'rh.area.stack4.cache.th30.abs.sig.ocn.mgh',\n",
       " 'lh.area.stack3.cache.th30.abs.sig.ocn.mgh',\n",
       " 'rh.area.stack8.cache.th30.abs.sig.ocn.mgh']"
      ]
     },
     "execution_count": 30,
     "metadata": {},
     "output_type": "execute_result"
    }
   ],
   "source": []
  }
 ],
 "metadata": {
  "kernelspec": {
   "display_name": ".venv",
   "language": "python",
   "name": "python3"
  },
  "language_info": {
   "codemirror_mode": {
    "name": "ipython",
    "version": 3
   },
   "file_extension": ".py",
   "mimetype": "text/x-python",
   "name": "python",
   "nbconvert_exporter": "python",
   "pygments_lexer": "ipython3",
   "version": "3.9.1"
  }
 },
 "nbformat": 4,
 "nbformat_minor": 5
}
